{
 "cells": [
  {
   "cell_type": "markdown",
   "metadata": {},
   "source": [
    "# HEURISTIC\n",
    "Part of the project using the Heuristic algorithm.\n",
    "\n",
    " ## Imports\n",
    " Used libraries for the Heuristic algorithm."
   ]
  },
  {
   "cell_type": "code",
   "execution_count": null,
   "metadata": {},
   "outputs": [],
   "source": [
    "import copy\n",
    "import random"
   ]
  },
  {
   "cell_type": "markdown",
   "metadata": {},
   "source": [
    "## Cor\n",
    "For colors, pretty self intuitive"
   ]
  },
  {
   "cell_type": "code",
   "execution_count": null,
   "metadata": {},
   "outputs": [],
   "source": [
    "class Cor: \n",
    "    RESET = '\\033[0m'\n",
    "    VERMELHO = '\\033[91m'\n",
    "    AZUL = '\\033[94m'\n",
    "    MAGENTA = '\\033[95m'"
   ]
  },
  {
   "cell_type": "markdown",
   "metadata": {},
   "source": [
    "## Board\n",
    "The Board contains the games grid and a method to output the grid to the stdout"
   ]
  },
  {
   "cell_type": "code",
   "execution_count": null,
   "metadata": {},
   "outputs": [],
   "source": [
    "class Board: "
   ]
  },
  {
   "cell_type": "markdown",
   "metadata": {},
   "source": [
    "### Init\n",
    "Initializes the Boards Grid with empty spaces"
   ]
  },
  {
   "cell_type": "code",
   "execution_count": null,
   "metadata": {},
   "outputs": [],
   "source": [
    "    def __init__(self):\n",
    "        self.Grid = [['X' for _ in range(7)] for _ in range(6)] "
   ]
  },
  {
   "cell_type": "markdown",
   "metadata": {},
   "source": [
    "### Print_grid\n",
    "Function that prints the Grid, pretty self intuitive."
   ]
  },
  {
   "cell_type": "code",
   "execution_count": null,
   "metadata": {},
   "outputs": [],
   "source": [
    "    def print_grid(self): \n",
    "        for i in range(6):\n",
    "            for j in range(7):\n",
    "                if(self.Grid[i][j] == 'R'):\n",
    "                    print(Cor.VERMELHO + self.Grid[i][j] + Cor.RESET, end=\" \")\n",
    "                if(self.Grid[i][j] == 'B'):\n",
    "                    print(Cor.AZUL + self.Grid[i][j] + Cor.RESET, end=\" \")\n",
    "                if(self.Grid[i][j] == 'X'):\n",
    "                    print(self.Grid[i][j], end=\" \")\n",
    "                if(self.Grid[i][j] == 'T'):\n",
    "                    print(Cor.MAGENTA + self.Grid[i][j] + Cor.RESET, end=\" \")\n",
    "            print()"
   ]
  },
  {
   "cell_type": "markdown",
   "metadata": {},
   "source": [
    "## Compute_Score\n",
    "Calculates the value for a set of pieces , as specified in the project worksheet.\n",
    "And where, \n",
    ">\n",
    ">`if(count_R >= 1 and count_B >= 1):` verifies if there is any blue and red piece.\n",
    ">\n",
    ">`if(count_R != 0):` verifies if there is any red pieces.\n",
    ">\n",
    "> `elif(count_B != 0):` in case there is no red pieces, this verifies if there is blue pieces.\n"
   ]
  },
  {
   "cell_type": "code",
   "execution_count": null,
   "metadata": {},
   "outputs": [],
   "source": [
    "def Compute_Score(count_R, count_B):\n",
    "    if(count_R >= 1 and count_B >= 1):\n",
    "        return 0\n",
    "    else:\n",
    "        if(count_R != 0): \n",
    "            match count_R:\n",
    "                case 1:\n",
    "                    return (1)\n",
    "                case 2:\n",
    "                    return (10)\n",
    "                case 3:\n",
    "                    return (50)\n",
    "                case 4:\n",
    "                    return 512\n",
    "        elif(count_B != 0): \n",
    "            match count_B:\n",
    "                case 1:\n",
    "                    return -1\n",
    "                case 2:\n",
    "                    return -10\n",
    "                case 3:\n",
    "                    return -50\n",
    "                case 4:\n",
    "                    return -512\n",
    "    return 0"
   ]
  },
  {
   "cell_type": "markdown",
   "metadata": {},
   "source": [
    "## Is_Red\n",
    "This function verifies if the piece is red."
   ]
  },
  {
   "cell_type": "code",
   "execution_count": null,
   "metadata": {},
   "outputs": [],
   "source": [
    "def Is_Red(piece):\n",
    "    if(piece == 'R'):\n",
    "        return True\n",
    "    else:\n",
    "        return False"
   ]
  },
  {
   "cell_type": "markdown",
   "metadata": {},
   "source": [
    "## Compute_Lines\n",
    "This function computes all 4 line pieces segments.\n",
    "> `for i in range(6):` represents the grid lines;\n",
    ">\n",
    "> `for j1 in range(0,4,1):` is the segment offset, 4 for each line;\n",
    ">\n",
    "> `total_temp = Compute_Score(count_R, count_B)` calculates the score."
   ]
  },
  {
   "cell_type": "code",
   "execution_count": null,
   "metadata": {},
   "outputs": [],
   "source": [
    "def Compute_Lines(Game): #Compute all 4 line pieces segments\n",
    "    total = 0\n",
    "    total_temp = 0\n",
    "    count_R = 0\n",
    "    count_B = 0\n",
    "    for i in range(6): #Grid Lines\n",
    "        for j1 in range(0,4,1): #segment offset, 4 for each line\n",
    "            for j2 in range(0,4,1): #4 pieces\n",
    "                if(Game.Grid[i][j1+j2] == 'X'):\n",
    "                    continue\n",
    "                elif(Is_Red(Game.Grid[i][j1+j2])):\n",
    "                    count_R += 1\n",
    "                else:\n",
    "                    count_B += 1\n",
    "            total_temp = Compute_Score(count_R, count_B) #Score calculation\n",
    "            if(total_temp == 512 or total_temp == -512):\n",
    "                return total_temp\n",
    "            total += total_temp\n",
    "            total_temp = 0\n",
    "            count_R = 0\n",
    "            count_B = 0\n",
    "    return total"
   ]
  },
  {
   "cell_type": "markdown",
   "metadata": {},
   "source": [
    "## Compute_Columns\n",
    "This function does the same as `def Compute_Lines(Game):`, but instead of lines it is applied to columns.\n",
    ">`for j in range(7):` represents the grid columns;\n",
    ">\n",
    ">`for i1 in range(0,3,1):` segment offset, 3 for each column;\n",
    ">\n",
    ">`total_temp = Compute_Score(count_R, count_B)` calculates the score."
   ]
  },
  {
   "cell_type": "code",
   "execution_count": null,
   "metadata": {},
   "outputs": [],
   "source": [
    "def Compute_Columns(Game): #Compute all 4 columns pieces segments\n",
    "    total = 0\n",
    "    total_temp = 0\n",
    "    count_R = 0\n",
    "    count_B = 0\n",
    "    for j in range(7): #Grid Columns\n",
    "        for i1 in range(0,3,1): #segment offset, 3 for each column\n",
    "            for i2 in range(0,4,1): #4 pieces\n",
    "                if(Game.Grid[i1+i2][j] == 'X'):\n",
    "                    continue\n",
    "                elif(Is_Red(Game.Grid[i1+i2][j])):\n",
    "                    count_R += 1\n",
    "                else:\n",
    "                    count_B += 1\n",
    "            total_temp = Compute_Score(count_R, count_B) #Score calculation\n",
    "            if(total_temp == 512 or total_temp == -512):\n",
    "                return total_temp\n",
    "            total += total_temp\n",
    "            total_temp = 0\n",
    "            count_R = 0\n",
    "            count_B = 0\n",
    "    return total  "
   ]
  },
  {
   "cell_type": "markdown",
   "metadata": {},
   "source": [
    "## Compute_Diagonals_Positive\n",
    "Same as the previous two but directed to diagonals.\n",
    ">`for i in range(3):` when shown it represents the calculation of a new diagonal, in total there is 4 of them(2 positive and 2 negative).\n",
    ">\n",
    ">`total_temp = Compute_Score(count_R, count_B)` represents the score calculation \n"
   ]
  },
  {
   "cell_type": "code",
   "execution_count": null,
   "metadata": {},
   "outputs": [],
   "source": [
    "def Compute_Diagonals_Positive(Game):\n",
    "    total = 0\n",
    "    total_temp = 0\n",
    "    count_R = 0\n",
    "    count_B = 0\n",
    "    count_number_fors = 3\n",
    "    for i in range(3): #Diagonal positiva 1/2\n",
    "        for temp in range (count_number_fors):\n",
    "            for j in range(4):\n",
    "                if(Game.Grid[i+j+temp][0+j+temp] == 'X'):\n",
    "                    continue\n",
    "                elif(Is_Red(Game.Grid[i+j+temp][0+j+temp])):\n",
    "                    count_R += 1\n",
    "                else:\n",
    "                    count_B += 1\n",
    "            total_temp = Compute_Score(count_R, count_B) #Score calcula\n",
    "            if(total_temp == 512 or total_temp == -512):\n",
    "                return total_temp\n",
    "            total += total_temp\n",
    "            total_temp = 0\n",
    "            count_R = 0\n",
    "            count_B = 0\n",
    "        count_number_fors -= 1\n",
    "    count_number_fors = 3\n",
    "    for i in range(3): #Diagonal positiva 2/2\n",
    "        for temp in range (count_number_fors):\n",
    "            for j in range(4):\n",
    "                if(Game.Grid[j+temp][1+j+temp+i] == 'X'):\n",
    "                    continue\n",
    "                elif(Is_Red(Game.Grid[j+temp][1+j+temp+i])):\n",
    "                    count_R += 1\n",
    "                else:\n",
    "                    count_B += 1\n",
    "            total_temp = Compute_Score(count_R, count_B) #Score calculation\n",
    "            if(total_temp == 512 or total_temp == -512):\n",
    "                return total_temp\n",
    "            total += total_temp\n",
    "            total_temp = 0\n",
    "            count_R = 0\n",
    "            count_B = 0\n",
    "        count_number_fors -= 1\n",
    "    count_number_fors = 3\n",
    "    for i in range(3): #Diagonal negativa 1/2\n",
    "        for temp in range (count_number_fors):\n",
    "            for j in range(4):\n",
    "                if(Game.Grid[0+j+temp+i][6-j-temp] == 'X'):\n",
    "                    continue\n",
    "                elif(Is_Red(Game.Grid[0+j+temp+i][6-j-temp])):\n",
    "                    count_R += 1\n",
    "                else:\n",
    "                    count_B += 1\n",
    "            total_temp = Compute_Score(count_R, count_B) #Score calculation\n",
    "            if(total_temp == 512 or total_temp == -512):\n",
    "                return total_temp\n",
    "            total += total_temp\n",
    "            total_temp = 0\n",
    "            count_R = 0\n",
    "            count_B = 0\n",
    "        count_number_fors -= 1\n",
    "    count_number_fors = 3\n",
    "    for i in range(3): #Diagonal negativa 1/2\n",
    "        for temp in range (count_number_fors):\n",
    "            for j in range(4):\n",
    "                if(Game.Grid[0+j+temp][5-i-j-temp] == 'X'):\n",
    "                    continue\n",
    "                elif(Is_Red(Game.Grid[0+j+temp][5-i-j-temp])):\n",
    "                    count_R += 1\n",
    "                else:\n",
    "                    count_B += 1\n",
    "            total_temp = Compute_Score(count_R, count_B) #Score calculation\n",
    "            if(total_temp == 512 or total_temp == -512):\n",
    "                return total_temp\n",
    "            total += total_temp\n",
    "            total_temp = 0\n",
    "            count_R = 0\n",
    "            count_B = 0\n",
    "        count_number_fors -= 1\n",
    "    count_number_fors = 3\n",
    "    return total"
   ]
  },
  {
   "cell_type": "markdown",
   "metadata": {},
   "source": [
    "## Total_Value\n",
    "Calcullates the total value from the grid by adding the value of lines, columns and diagonals. And if any of theese sums is equal to **512** or **-512**, it means ones of the players has won.\n",
    "In the end it returns the the addiction between `sum_lines`, `sum_columns` and `sum_diagonals`."
   ]
  },
  {
   "cell_type": "code",
   "execution_count": null,
   "metadata": {},
   "outputs": [],
   "source": [
    "def Total_Value(Game):\n",
    "    sum_columns = 0\n",
    "    sum_diagonals = 0 \n",
    "    sum_columns = 0\n",
    "    sum_lines = Compute_Lines(Game)\n",
    "    if(sum_lines == 512 or sum_lines == -512):\n",
    "        return sum_lines\n",
    "    sum_columns = Compute_Columns(Game)\n",
    "    if(sum_columns == 512 or sum_columns == -512):\n",
    "        return sum_columns\n",
    "    sum_diagonals = Compute_Diagonals_Positive(Game)\n",
    "    if(sum_diagonals == 512 or sum_diagonals == -512):\n",
    "        return sum_diagonals\n",
    "    return (sum_lines + sum_columns + sum_diagonals)\n",
    "\n",
    "# bravo = Board()\n",
    "# bravo.Grid[0][5] = 'B'\n",
    "# bravo.Grid[0][1] = 'R'\n",
    "# bravo.Grid[0][2] = 'R'\n",
    "# bravo.Grid[0][3] = 'R'\n",
    "# bravo.Grid[5][3] = 'R'\n",
    "# bravo.Grid[5][6] = 'R'\n",
    "# bravo.print_grid()\n",
    "# out = Total_Value(bravo)\n",
    "# print(out)"
   ]
  },
  {
   "cell_type": "markdown",
   "metadata": {},
   "source": [
    "# A STAR\n",
    "This is the begining of the implementation of A Star algorithm.\n",
    "\n",
    "## Imports\n",
    "For this implementation it was used the library `copy` and some functions already defined in `heuristic.py`."
   ]
  },
  {
   "cell_type": "code",
   "execution_count": null,
   "metadata": {},
   "outputs": [],
   "source": [
    "import copy\n",
    "from heuristic import *"
   ]
  },
  {
   "cell_type": "markdown",
   "metadata": {},
   "source": [
    "## Classes\n",
    " 1. *Cor*;\n",
    " 2. *Board*.\n",
    "\n",
    "Both classes were already written about in the **Heuristic** implementation."
   ]
  },
  {
   "cell_type": "code",
   "execution_count": 3,
   "metadata": {},
   "outputs": [],
   "source": [
    "class Cor:\n",
    "    RESET = '\\033[0m'\n",
    "    VERMELHO = '\\033[91m'\n",
    "    AZUL = '\\033[94m'\n",
    "    MAGENTA = '\\033[95m'\n",
    "\n",
    "class Board_A: \n",
    "    def __init__(self):\n",
    "        self.Grid = [['X' for _ in range(7)] for _ in range(6)]\n",
    "        \n",
    "    def print_grid(self):\n",
    "        for i in range(6):\n",
    "            for j in range(7):\n",
    "                if(self.Grid[i][j] == 'R'):\n",
    "                    print(Cor.VERMELHO + self.Grid[i][j] + Cor.RESET, end=\" \")\n",
    "                if(self.Grid[i][j] == 'B'):\n",
    "                    print(Cor.AZUL + self.Grid[i][j] + Cor.RESET, end=\" \")\n",
    "                if(self.Grid[i][j] == 'X'):\n",
    "                    print(self.Grid[i][j], end=\" \")    \n",
    "            print()"
   ]
  },
  {
   "cell_type": "markdown",
   "metadata": {},
   "source": [
    "## Make_Move\n",
    "The function computes the move, inputed by the index argument, by the player indentified by the color argument."
   ]
  },
  {
   "cell_type": "code",
   "execution_count": null,
   "metadata": {},
   "outputs": [],
   "source": [
    "def Make_Move(Return_Board, index, color):\n",
    "    for i in range(5, -1, -1):\n",
    "        if(Return_Board.Grid[i][index] == 'X'):\n",
    "            Return_Board.Grid[i][index] = color\n",
    "            return\n",
    "    print(\"You should not be here\")"
   ]
  },
  {
   "cell_type": "markdown",
   "metadata": {},
   "source": [
    "## Find_Value\n",
    "This function is part of the AI logic. It calculates the value of each possible move based on some heuristic values and returns the index of the column with the highest or lowest value.\n",
    "> In ` if(value_temp[i] > greatest_value):` and `if(value_temp[i] < greatest_value):`, both lines are used to make sure `greatest_value` receives the highest possible value for **Red** or **Blue**."
   ]
  },
  {
   "cell_type": "code",
   "execution_count": null,
   "metadata": {},
   "outputs": [],
   "source": [
    "def Find_value(playerColor, value_temp):\n",
    "    position = -1\n",
    "    if(playerColor == 'R'):\n",
    "        greatest_value = -513\n",
    "        for i in range(7):\n",
    "            if(value_temp[i] > greatest_value):\n",
    "                greatest_value = value_temp[i]\n",
    "                position = i\n",
    "    elif(playerColor == 'B'):\n",
    "        greatest_value = 513\n",
    "        for i in range(7):\n",
    "            if(value_temp[i] < greatest_value):\n",
    "                greatest_value = value_temp[i]\n",
    "                position = i\n",
    "    return position"
   ]
  },
  {
   "cell_type": "markdown",
   "metadata": {},
   "source": [
    "## A_Star\n",
    "This function implements part of the AI logic using the A* algorithm. It considers possible moves, evaluates their values, and chooses the move with the highest or lowest value to make. All of this with functions previously implented.\n",
    "\n",
    "In the end, It returns the value of the chosen move, with some adjustments (+16 for **Red** and -16 for **Blue**)."
   ]
  },
  {
   "cell_type": "code",
   "execution_count": null,
   "metadata": {},
   "outputs": [],
   "source": [
    "def A_Star(visited, playerColor, game, heuristic_value):\n",
    "    plusvalue = 0\n",
    "    value_temp_R = [-513]*7\n",
    "    value_temp_B = [513]*7\n",
    "    for i in range(7):\n",
    "        if (visited[i]):\n",
    "            a_star_board = Board() \n",
    "            lista_temp = copy.deepcopy(game.Grid)\n",
    "            setattr(a_star_board, 'Grid', lista_temp) \n",
    "            Make_Move(a_star_board, i, playerColor)\n",
    "            if(playerColor == 'R'):\n",
    "                value_temp_R[i] = Total_Value(a_star_board)\n",
    "                #print(\"Valor na (\" + str(i) + \" \" + str(value_temp_R[i]) + \")\")\n",
    "            elif(playerColor == 'B'):\n",
    "                value_temp_B[i] = Total_Value(a_star_board)\n",
    "                #print(\"Valor na (\" + str(i) + \" \" + str(value_temp_B[i]) + \")\")\n",
    "    if(playerColor == 'R'):\n",
    "        move_position = Find_value(playerColor, value_temp_R)\n",
    "    elif(playerColor == 'B'):\n",
    "        move_position = Find_value(playerColor, value_temp_B)\n",
    "    Make_Move(game, move_position, playerColor)\n",
    "    if(playerColor == 'R'):  \n",
    "        return value_temp_R[move_position] + 16\n",
    "    else:\n",
    "        return value_temp_B[move_position] - 16     "
   ]
  },
  {
   "cell_type": "markdown",
   "metadata": {},
   "source": [
    "# MONTE CARLO TREE SEARCH\n",
    "This section is about the MCTS algorithm implementation.\n",
    "\n",
    "## Imports\n",
    "For the MCTS implementation it was used two libraries, `copy` and `random`. It was also needed from `heuristic.py` the function `Total_Value`."
   ]
  },
  {
   "cell_type": "code",
   "execution_count": null,
   "metadata": {},
   "outputs": [],
   "source": [
    "import copy\n",
    "import random\n",
    "from heuristic import Total_Value"
   ]
  },
  {
   "cell_type": "markdown",
   "metadata": {},
   "source": [
    "## Classes\n",
    " 1. *Node*;\n",
    " 2. *Board*.\n",
    "\n",
    "The class Board was already mentioned in the **Heuristic** implementation.\n",
    "\n",
    "## Node\n",
    "Represents a node in the game tree for MCTS."
   ]
  },
  {
   "cell_type": "code",
   "execution_count": null,
   "metadata": {},
   "outputs": [],
   "source": [
    "class Node:"
   ]
  },
  {
   "cell_type": "markdown",
   "metadata": {},
   "source": [
    "## Init\n",
    "Here the function `__init__` belongs to the classe node and initializes a node object with 6 atributes:\n",
    ">`state` represents the state of the game associated with this node.\n",
    ">\n",
    ">`visits` tracks how many times this node has been visited during the MCTS algorithm;\n",
    ">\n",
    ">`score` represents the cumulative score associated with this node;\n",
    ">\n",
    ">`children` a list that stores child nodes from the current node;\n",
    ">\n",
    ">`parent` reference to the parent node of current node;\n",
    ">\n",
    ">`move` represents the move that led to this node.\n"
   ]
  },
  {
   "cell_type": "code",
   "execution_count": null,
   "metadata": {},
   "outputs": [],
   "source": [
    "    def __init__(self, state):\n",
    "        self.state = state\n",
    "        self.visits = 0\n",
    "        self.score = 0\n",
    "        self.children = []\n",
    "        self.parent = None\n",
    "        self.move = -1"
   ]
  },
  {
   "cell_type": "markdown",
   "metadata": {},
   "source": [
    "## Select\n",
    "Function that selects the next child node using the Upper Confidence Bound (UCB) policy and the child is chosen with the highest UCB value.\n",
    "> `max_ucb = -float('inf')` is the initial value for the UCB(smallest value).\n",
    ">\n",
    "> `ucb = float('inf')` if the child node hasn´t been found, then the ucb value is equal to infinity in order to force a find of this node.\n",
    ">\n",
    "> `ucb = (child.score / child.visits) + (2 * (2 * node.visits / child.visits) ** 0.5)` It is the ucb formula."
   ]
  },
  {
   "cell_type": "code",
   "execution_count": null,
   "metadata": {},
   "outputs": [],
   "source": [
    "def select(node):\n",
    "    selected_node = None\n",
    "    max_ucb = -float('inf') \n",
    "    for child in node.children:\n",
    "        if child.visits == 0:\n",
    "            ucb = float('inf')   \n",
    "        else:\n",
    "            # Fórmula do UCB: exploração (score/visits) + exploração (2 * log(total_visits) / visits) ** 0.5\n",
    "            ucb = (child.score / child.visits) + (2 * (2 * node.visits / child.visits) ** 0.5)  \n",
    "        if ucb > max_ucb:\n",
    "            max_ucb = ucb\n",
    "            selected_node = child\n",
    "    return selected_node"
   ]
  },
  {
   "cell_type": "markdown",
   "metadata": {},
   "source": [
    "## Expand\n",
    "Function with the sole purpose to expand the child from the current node for both players. Also creates child nodes corresponding to each possible move in a column."
   ]
  },
  {
   "cell_type": "code",
   "execution_count": null,
   "metadata": {},
   "outputs": [],
   "source": [
    "def expand(node, jogadas):\n",
    "    for column in range(7):\n",
    "        temp_game = copy.deepcopy(node.state)\n",
    "        if Game_is_Over(temp_game, 'R') or Game_is_Over(temp_game, 'B'):\n",
    "            break\n",
    "        if temp_game.Grid[0][column] == 'X':\n",
    "            for c in jogadas:\n",
    "                Make_Move(temp_game, column, c) \n",
    "                new_node = Node(temp_game)\n",
    "                new_node.parent = node\n",
    "                new_node.move = column\n",
    "                node.children.append(new_node)\n",
    "                temp_game = copy.deepcopy(node.state)"
   ]
  },
  {
   "cell_type": "markdown",
   "metadata": {},
   "source": [
    "## Simulate\n",
    "Function that simulates a game starting from a given state for both players until the game ends.\n",
    ">`column = random.choice(columns)` choses a random available column.\n",
    ">\n",
    ">`return Total_Value(temp_game)` returns the total value of the game using a heuristic."
   ]
  },
  {
   "cell_type": "code",
   "execution_count": null,
   "metadata": {},
   "outputs": [],
   "source": [
    "def simulate(state, jogadas):\n",
    "    temp_game = copy.deepcopy(state)\n",
    "    while True:\n",
    "        for c in jogadas:\n",
    "            columns = [i for i in range(7) if temp_game.Grid[0][i] == 'X']\n",
    "            if (len(columns) != 0):\n",
    "                column = random.choice(columns)\n",
    "                Make_Move(temp_game, column, c) \n",
    "            else:\n",
    "                return Total_Value(temp_game)\n",
    "            if Game_is_Over(temp_game, 'R') or Game_is_Over(temp_game, 'B'):\n",
    "                return Total_Value(temp_game)"
   ]
  },
  {
   "cell_type": "markdown",
   "metadata": {},
   "source": [
    "## Backpropagate\n",
    "Function to update the visit count and score of nodes in the tree after a simulation."
   ]
  },
  {
   "cell_type": "code",
   "execution_count": null,
   "metadata": {},
   "outputs": [],
   "source": [
    "def backpropagate(node, score):\n",
    "    while node is not None:\n",
    "        node.visits += 1\n",
    "        node.score += score\n",
    "        node = node.parent"
   ]
  },
  {
   "cell_type": "markdown",
   "metadata": {},
   "source": [
    "## MCTS\n",
    "The Main function implementing the Monte Carlo Tree Search algorithm, it uses functions like `select`, `expand`, `simulate` and `backpropagate`, that were already implemented and written about, to find the best move possible.\n",
    "> `node = select(node)` selects the next child node by using UCB.\n",
    ">\n",
    "> `expand(node, jogadas)` expands the child from the current node.\n",
    ">\n",
    "> `score = simulate(node.state, jogadas)` simulates a game using the current state of the node.\n",
    ">\n",
    "> `backpropagate(node, score)` backpropagates the results."
   ]
  },
  {
   "cell_type": "code",
   "execution_count": null,
   "metadata": {},
   "outputs": [],
   "source": [
    "def mcts(state, iterations, player):\n",
    "    if (player == 1):\n",
    "        jogadas = ['R', 'B']\n",
    "    else:\n",
    "        jogadas = ['B', 'R']\n",
    "    root = Node(state)\n",
    "    for _ in range(iterations):\n",
    "        node = root\n",
    "        while node.children:\n",
    "            node = select(node) \n",
    "        expand(node, jogadas)   \n",
    "        score = simulate(node.state, jogadas) \n",
    "        backpropagate(node, score) \n",
    "    best_move = None\n",
    "    best_score = -float('inf')\n",
    "    for child in root.children:\n",
    "        if ((child.visits > 0) and (child.score / child.visits) > best_score):\n",
    "            best_move = child.move\n",
    "            best_score = (child.score / child.visits)\n",
    "    return best_move"
   ]
  },
  {
   "cell_type": "markdown",
   "metadata": {},
   "source": [
    "## Make_Move \n",
    "Computes the move, inputed by the index argument, by the player indentified by the color argument"
   ]
  },
  {
   "cell_type": "code",
   "execution_count": null,
   "metadata": {},
   "outputs": [],
   "source": [
    "def Make_Move(Return_Board, index, color): \n",
    "    for i in range(5, -1, -1):\n",
    "        if(Return_Board.Grid[i][index] == 'X'):\n",
    "            Return_Board.Grid[i][index] = color\n",
    "            return\n",
    "    print(\"You should not be here\")"
   ]
  },
  {
   "cell_type": "markdown",
   "metadata": {},
   "source": [
    "## Check_Line\n",
    "This function checks for a winning line in the game grid by checking if all positions in one row are occupied by the same player's piece."
   ]
  },
  {
   "cell_type": "code",
   "execution_count": null,
   "metadata": {},
   "outputs": [],
   "source": [
    "def Check_Line(Game, i_plus, j_plus, player):\n",
    "    for i in range(4):\n",
    "        if(Game.Grid[i + i_plus][0 + j_plus] == player and Game.Grid[i + i_plus][1 + j_plus] == player and Game.Grid[i + i_plus][2 + j_plus] == player and Game.Grid[i + i_plus][3 + j_plus] == player):\n",
    "            return True\n",
    "    return False"
   ]
  },
  {
   "cell_type": "markdown",
   "metadata": {},
   "source": [
    "## Check_Column \n",
    "Simple checking Column algorithm that works the same way as `Check_line`, but instead of lines it is columns."
   ]
  },
  {
   "cell_type": "code",
   "execution_count": null,
   "metadata": {},
   "outputs": [],
   "source": [
    "def Check_Column(Game, i_plus, j_plus, player): \n",
    "    for j in range(4):\n",
    "        if(Game.Grid[0 + i_plus][j + j_plus] == player and Game.Grid[1 + i_plus][j + j_plus] == player and Game.Grid[2 + i_plus][j + j_plus] == player and Game.Grid[3 + i_plus][j + j_plus] == player):\n",
    "            return True\n",
    "    return False"
   ]
  },
  {
   "cell_type": "markdown",
   "metadata": {},
   "source": [
    "## Check_Diagonal\n",
    "Same as the previous two, `Check_Line` and `Check_Column`, but here we are dealing with the diagonals."
   ]
  },
  {
   "cell_type": "code",
   "execution_count": null,
   "metadata": {},
   "outputs": [],
   "source": [
    "def Check_Diagonal(Game, i_plus, j_plus, player): # Simple checking Diagonal algorithm\n",
    "    if((Game.Grid[0 + i_plus][0 + j_plus] == player and Game.Grid[1 + i_plus][1 + j_plus] == player and Game.Grid[2 + i_plus][2 + j_plus] == player and Game.Grid[3 + i_plus][3 + j_plus] == player) or (Game.Grid[0 + i_plus][3 + j_plus] == player and Game.Grid[1 + i_plus][2 + j_plus] == player and Game.Grid[2 + i_plus][1 + j_plus] == player and Game.Grid[3 + i_plus][0 + j_plus] == player)):\n",
    "        return True\n",
    "    return False"
   ]
  },
  {
   "cell_type": "markdown",
   "metadata": {},
   "source": [
    "## Game_is_Over\n",
    "Function that checks if the game is over, by using the functions that check for a win.\n",
    "> `if(Check_Column(test, i, j, color)):` here it checks the Columns.\n",
    ">\n",
    "> `if(Check_Line(test, i, j, color)):` here it checks the Lines.\n",
    ">\n",
    "> `if(Check_Diagonal(test, i, j, color)):` here it checks the Diagonals."
   ]
  },
  {
   "cell_type": "code",
   "execution_count": null,
   "metadata": {},
   "outputs": [],
   "source": [
    "def Game_is_Over(test, color): #Checks if the Game is over\n",
    "    for i in range(3):\n",
    "        for j in range(4):\n",
    "            if(Check_Column(test, i, j, color)): # Here it checks the Columns\n",
    "                #print(color +\" Wins\")\n",
    "                #test.print_grid()\n",
    "                return True\n",
    "            if(Check_Line(test, i, j, color)): # Here it checks the Lines\n",
    "                #print(color + \" Wins\")\n",
    "                #test.print_grid()\n",
    "                return True\n",
    "            if(Check_Diagonal(test, i, j, color)): # Here it checks the Diagonals\n",
    "                #print(color + \" Wins\")\n",
    "                #test.print_grid()\n",
    "                return True\n",
    "    return False"
   ]
  },
  {
   "cell_type": "markdown",
   "metadata": {},
   "source": [
    "# BOARD\n",
    "Contains all the functions that are necessary to have a connect four game.\n",
    "\n",
    "## Imports\n",
    "For the board implementation it was used the library `copy`, `syystem` from the librabry `os`, from `monte_carlo` the function `mcts` and it was imported all the functions from `a_star`."
   ]
  },
  {
   "cell_type": "code",
   "execution_count": null,
   "metadata": {},
   "outputs": [],
   "source": [
    "from os import system\n",
    "import copy\n",
    "from a_star import *\n",
    "from monte_carlo import mcts"
   ]
  },
  {
   "cell_type": "code",
   "execution_count": null,
   "metadata": {},
   "outputs": [],
   "source": [
    "VALOR = 10000"
   ]
  },
  {
   "cell_type": "markdown",
   "metadata": {},
   "source": [
    "The variable `Valor` represent the number of iterations or simulations that the MCTS algorithm will perform.\n",
    "\n",
    "## Take_Int_Input\n",
    "This function takes input from the stdin and makes sure the input is an int."
   ]
  },
  {
   "cell_type": "code",
   "execution_count": null,
   "metadata": {},
   "outputs": [],
   "source": [
    "def Take_Int_input():\n",
    "    while(True):\n",
    "        try:\n",
    "            ret = int(input('Choose your move: '))\n",
    "            return ret\n",
    "        except ValueError:\n",
    "            continue"
   ]
  },
  {
   "cell_type": "markdown",
   "metadata": {},
   "source": [
    "## Red_moves\n",
    "This function computes the move for the red player.\n",
    ">`list_possible_moves = [False for _ in range(7)]` list of possible moves, for now its entirety is false;\n",
    ">\n",
    ">`for i in range(7):` checks if all columns are filled (in other words if a move is possible), if it is, print the corresponding number above the column;\n",
    ">\n",
    ">`list_possible_moves[i] = True` also sets the possible moves list in its i possition to true and `print(\" \", end = \" \")` or else sets it to false just to make sure;\n",
    ">\n",
    ">`if(red_human_player):` checks if Red player is human or not, the negative case is not currently implemented;\n",
    ">\n",
    ">`if(not(True in list_possible_moves)):` checks if the result is a tie;\n",
    ">\n",
    "> `move = Take_Int_input() - 1` user input, if the move is possible it calls the Make_Move function, if not outputs error and returns to here."
   ]
  },
  {
   "cell_type": "code",
   "execution_count": null,
   "metadata": {},
   "outputs": [],
   "source": [
    "def Red_moves(Return_Board, red_human_player, heuristic, cpu): \n",
    "    print(\"Reds Turn\")\n",
    "    print()\n",
    "    list_possible_moves = [False for _ in range(7)] \n",
    "    for i in range(7): \n",
    "            if(Return_Board.Grid[0][i] == 'X'):\n",
    "                if (red_human_player):\n",
    "                    print(i+1, end= \" \")\n",
    "                list_possible_moves[i] = True \n",
    "            else:\n",
    "                if (red_human_player):\n",
    "                    print(\" \", end = \" \") \n",
    "                list_possible_moves[i] = False\n",
    "    if(red_human_player): \n",
    "        print()\n",
    "        Return_Board.print_grid()\n",
    "        if(not(True in list_possible_moves)): \n",
    "            print(\"Game is a Tie\")\n",
    "            exit()\n",
    "        while(True):\n",
    "            move = Take_Int_input() - 1\n",
    "            if(move <= 6 and move >= 0):\n",
    "                if(list_possible_moves[move]):\n",
    "                    Make_Move(Return_Board, move, 'R')\n",
    "                    break\n",
    "        heuristic = Total_Value(Return_Board)\n",
    "    else:\n",
    "        print()\n",
    "        #Return_Board.print_grid()\n",
    "        if (cpu == 1):\n",
    "            heuristic = A_Star(list_possible_moves, 'R', Return_Board, heuristic)\n",
    "        else:\n",
    "            move = mcts(Return_Board, VALOR, 1)\n",
    "            Make_Move(Return_Board, move, 'R')\n",
    "        Return_Board.print_grid()\n",
    "        print()\n",
    "    #system('clear')\n",
    "    return heuristic"
   ]
  },
  {
   "cell_type": "markdown",
   "metadata": {},
   "source": [
    "## Blue_moves\n",
    "This function has similar functionality to `Red_moves()` but for the blue player, it also takes the same arguments and apply them to the blue player instead."
   ]
  },
  {
   "cell_type": "code",
   "execution_count": null,
   "metadata": {},
   "outputs": [],
   "source": [
    "def Blue_moves(Return_Board:Board, blue_human_player, heuristic, cpu): \n",
    "    print(\"Blues Turn\")\n",
    "    print()\n",
    "    list_possible_moves = [False for _ in range(7)] \n",
    "    for i in range(7): \n",
    "            if(Return_Board.Grid[0][i] == 'X'):\n",
    "                if (blue_human_player):\n",
    "                    print(i+1, end= \" \")\n",
    "                list_possible_moves[i] = True \n",
    "            else:\n",
    "                if (blue_human_player):\n",
    "                    print(\" \", end = \" \") \n",
    "                list_possible_moves[i] = False\n",
    "    print()\n",
    "    if(blue_human_player): \n",
    "        Return_Board.print_grid()\n",
    "        if(not(True in list_possible_moves)): \n",
    "            print(\"Game is a Tie\")\n",
    "            exit()\n",
    "        while(True):\n",
    "            move = Take_Int_input() - 1\n",
    "            if(move <= 6 and move >= 0):\n",
    "                if(list_possible_moves[move]):\n",
    "                    Make_Move(Return_Board, move, 'B')\n",
    "                    break\n",
    "    else:\n",
    "        if (cpu == 1):\n",
    "            heuristic = A_Star(list_possible_moves, 'B', Return_Board, heuristic)\n",
    "        else:\n",
    "            move = mcts(Return_Board, VALOR, 2)\n",
    "            Make_Move(Return_Board, move, 'B')\n",
    "        Return_Board.print_grid()\n",
    "        print()\n",
    "    #system('clear')\n",
    "    return heuristic"
   ]
  },
  {
   "cell_type": "markdown",
   "metadata": {},
   "source": [
    "## Game_is_Over\n",
    "This function checks if the game is over. It takes two arguments: `test`, which is the game board object, and `color`, which is the color of the player whose turn it is. \n",
    ">`if(Check_Column(test, i, j, color)):` it checks the columns;\n",
    ">\n",
    ">`if(Check_Line(test, i, j, color)):` it checks the lines;\n",
    ">\n",
    ">`if(Check_Diagonal(test, i, j, color)):` it checks the Diagonals."
   ]
  },
  {
   "cell_type": "code",
   "execution_count": null,
   "metadata": {},
   "outputs": [],
   "source": [
    "def Game_is_Over(test, color): \n",
    "    for i in range(3):\n",
    "        for j in range(4):\n",
    "            if(Check_Column(test, i, j, color)): \n",
    "                #print(color +\" Wins\")\n",
    "                #test.print_grid()\n",
    "                return True\n",
    "            if(Check_Line(test, i, j, color)):\n",
    "                #print(color + \" Wins\")\n",
    "                #test.print_grid()\n",
    "                return True\n",
    "            if(Check_Diagonal(test, i, j, color)): # Here it checks the Diagonals\n",
    "                #print(color + \" Wins\")\n",
    "                #test.print_grid()\n",
    "                return True\n",
    "    return False"
   ]
  },
  {
   "cell_type": "markdown",
   "metadata": {},
   "source": [
    "## Check_Line\n",
    "This function checks for a winning condition in a horizontal line."
   ]
  },
  {
   "cell_type": "code",
   "execution_count": null,
   "metadata": {},
   "outputs": [],
   "source": [
    "def Check_Line(Game, i_plus, j_plus, player):\n",
    "    for i in range(4):\n",
    "        if(Game.Grid[i + i_plus][0 + j_plus] == player and Game.Grid[i + i_plus][1 + j_plus] == player and Game.Grid[i + i_plus][2 + j_plus] == player and Game.Grid[i + i_plus][3 + j_plus] == player):\n",
    "            return True\n",
    "    return False"
   ]
  },
  {
   "cell_type": "markdown",
   "metadata": {},
   "source": [
    "## Check_Column\n",
    "This function checks for a winning condition in a vertical line."
   ]
  },
  {
   "cell_type": "code",
   "execution_count": null,
   "metadata": {},
   "outputs": [],
   "source": [
    "def Check_Column(Game, i_plus, j_plus, player): \n",
    "    for j in range(4):\n",
    "        if(Game.Grid[0 + i_plus][j + j_plus] == player and Game.Grid[1 + i_plus][j + j_plus] == player and Game.Grid[2 + i_plus][j + j_plus] == player and Game.Grid[3 + i_plus][j + j_plus] == player):\n",
    "            return True\n",
    "    return False"
   ]
  },
  {
   "cell_type": "markdown",
   "metadata": {},
   "source": [
    "## Check_Diagonal\n",
    "This function checks for a winning condition in a diagonal line."
   ]
  },
  {
   "cell_type": "code",
   "execution_count": null,
   "metadata": {},
   "outputs": [],
   "source": [
    "def Check_Diagonal(Game, i_plus, j_plus, player): # Simple checking Diagonal algorithm\n",
    "    if((Game.Grid[0 + i_plus][0 + j_plus] == player and Game.Grid[1 + i_plus][1 + j_plus] == player and Game.Grid[2 + i_plus][2 + j_plus] == player and Game.Grid[3 + i_plus][3 + j_plus] == player) or (Game.Grid[0 + i_plus][3 + j_plus] == player and Game.Grid[1 + i_plus][2 + j_plus] == player and Game.Grid[2 + i_plus][1 + j_plus] == player and Game.Grid[3 + i_plus][0 + j_plus] == player)):\n",
    "        return True\n",
    "    return False"
   ]
  },
  {
   "cell_type": "markdown",
   "metadata": {},
   "source": [
    "# MAIN\n",
    "Contains the main function that allows to run and play the connect four game.\n",
    "\n",
    "## Imports\n",
    "For this file it is only needed functions that were already defined in `Board`, `heuristic` and `a_star`."
   ]
  },
  {
   "cell_type": "code",
   "execution_count": null,
   "metadata": {},
   "outputs": [],
   "source": [
    "from Board import *\n",
    "from heuristic import *\n",
    "from a_star import *"
   ]
  },
  {
   "cell_type": "markdown",
   "metadata": {},
   "source": [
    "## Main\n",
    "Used to run the program.\n",
    ">`while(True):` used for playing the game, first comes reds turn then if the game is not over comes blues turn and again if it's not over it loops back to reds turn.\n"
   ]
  },
  {
   "cell_type": "code",
   "execution_count": null,
   "metadata": {},
   "outputs": [],
   "source": [
    "def main():\n",
    "    print(\"\"\" \n",
    "\n",
    " ____                                           __        __ __      \n",
    "/\\  _`\\                                        /\\ \\__    /\\ \\\\ \\     \n",
    "\\ \\ \\/\\_\\    ___     ___     ___      __    ___\\ \\ ,_\\   \\ \\ \\\\ \\    \n",
    " \\ \\ \\/_/_  / __`\\ /' _ `\\ /' _ `\\  /'__`\\ /'___\\ \\ \\/    \\ \\ \\\\ \\_  \n",
    "  \\ \\ \\L\\ \\/\\ \\L\\ \\/\\ \\/\\ \\/\\ \\/\\ \\/\\  __//\\ \\__/\\ \\ \\_    \\ \\__ ,__\\\n",
    "   \\ \\____/\\ \\____/\\ \\_\\ \\_\\ \\_\\ \\_\\ \\____\\ \\____\\\\ \\__\\    \\/_/\\_\\_/\n",
    "    \\/___/  \\/___/  \\/_/\\/_/\\/_/\\/_/\\/____/\\/____/ \\/__/       \\/_/  \n",
    "                                                                     \n",
    "                                                                     \n",
    "    \"\"\")\n",
    "    print(\"Options\")\n",
    "    print(\"[1]Play as Red\")\n",
    "    print(\"[2]Play as Blue\")\n",
    "    print(\"[3]Two player mode\")\n",
    "    print(\"[4]CPU vs CPU\")\n",
    "    while(True):\n",
    "        try:\n",
    "            opt = int(input())\n",
    "            break\n",
    "        except ValueError:\n",
    "            continue\n",
    "    match opt:\n",
    "        case 1:\n",
    "            red_human_player = True\n",
    "            blue_human_player = False\n",
    "        case 2:\n",
    "            red_human_player = False\n",
    "            blue_human_player = True\n",
    "        case 3:\n",
    "            red_human_player = True\n",
    "            blue_human_player = True\n",
    "        case 4:\n",
    "            red_human_player = False\n",
    "            blue_human_player = False\n",
    "    print(\"Choose an algorithm: \")\n",
    "    print(\"[1] A * Star\")\n",
    "    print(\"[2] MCTS\")\n",
    "    while(True):\n",
    "        try:\n",
    "            opc = int(input())\n",
    "            break\n",
    "        except ValueError:\n",
    "            continue\n",
    "    heuristic = 0\n",
    "    print(Cor.MAGENTA + \"Start!\" + Cor.RESET) # Very important!\n",
    "    test = Board()\n",
    "    while(True): \n",
    "        heuristic = Red_moves(test, red_human_player, heuristic, opc)\n",
    "        if(Game_is_Over(test, 'R')):\n",
    "            break\n",
    "        heuristic = Blue_moves(test, blue_human_player,heuristic, opc)\n",
    "        if(Game_is_Over(test, 'B')):\n",
    "            break\n",
    "    print()\n",
    "    if(Game_is_Over(test, 'R')):\n",
    "        print (\"RED WINS!\")\n",
    "    if(Game_is_Over(test, 'B')):\n",
    "        print (\"BLUE WINS!\")\n",
    "    if(not(Game_is_Over(test, 'R') and Game_is_Over(test, 'B'))):\n",
    "        print(\"DRAW!\")\n",
    "    test.print_grid()\n",
    "main() #Currently nothing but the Board implemented"
   ]
  }
 ],
 "metadata": {
  "colab": {
   "authorship_tag": "ABX9TyO91sjuz53mc665/3MUdnk7",
   "provenance": [
    {
     "file_id": "1d9D8j45Z4EBmsoEqsMspPFZu083duxDp",
     "timestamp": 1710094020318
    }
   ]
  },
  "kernelspec": {
   "display_name": "Python 3 (ipykernel)",
   "language": "python",
   "name": "python3"
  },
  "language_info": {
   "codemirror_mode": {
    "name": "ipython",
    "version": 3
   },
   "file_extension": ".py",
   "mimetype": "text/x-python",
   "name": "python",
   "nbconvert_exporter": "python",
   "pygments_lexer": "ipython3",
   "version": "3.11.8"
  }
 },
 "nbformat": 4,
 "nbformat_minor": 4
}
